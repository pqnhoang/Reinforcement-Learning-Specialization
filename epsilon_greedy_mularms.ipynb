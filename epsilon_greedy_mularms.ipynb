{
 "cells": [
  {
   "cell_type": "code",
   "execution_count": 1,
   "metadata": {},
   "outputs": [],
   "source": [
    "import numpy as np\n",
    "import tensorflow as tf\n",
    "import random\n"
   ]
  },
  {
   "cell_type": "code",
   "execution_count": 2,
   "metadata": {},
   "outputs": [],
   "source": [
    "class Arm:\n",
    "    def __init__(self,probability: float, deviation: float):\n",
    "        self.probability = probability\n",
    "        self.deviation = deviation\n",
    "        self.positive_reward = 1\n",
    "        self.negative_reward = 0\n",
    "    def pull(self) -> int:\n",
    "        return self.positive_reward*np.random.normal(self.probability,self.deviation)"
   ]
  },
  {
   "cell_type": "code",
   "execution_count": 3,
   "metadata": {},
   "outputs": [],
   "source": [
    "class Fair:\n",
    "    def __init__(self):\n",
    "        self.arms = []\n",
    "        self.length = 0\n",
    "    def add_arm(self,arm : Arm):\n",
    "        self.arms.append(arm)\n",
    "        self.length += 1\n",
    "    def pull_at_machine(self,index : int) -> int:\n",
    "        try:\n",
    "            return self.arms[index].pull()\n",
    "        except:\n",
    "            print(\"Error at Fair.pull_at_machine\")\n",
    "            raise"
   ]
  },
  {
   "cell_type": "code",
   "execution_count": 4,
   "metadata": {},
   "outputs": [],
   "source": [
    "f = Fair()\n",
    "f.add_arm(Arm(0.7, 0.01))\n",
    "f.add_arm(Arm(0.8, 0.01))\n",
    "f.add_arm(Arm(0.6, 0.01))\n",
    "f.add_arm(Arm(0.5, 0.03))\n",
    "f.add_arm(Arm(0.7, 0.02))\n",
    "f.add_arm(Arm(0.7, 0.01))\n",
    "f.add_arm(Arm(0.8, 0.01))\n",
    "f.add_arm(Arm(0.6, 0.03))\n",
    "f.add_arm(Arm(0.5, 0.05))\n",
    "f.add_arm(Arm(0.7, 0.02))\n",
    "f.add_arm(Arm(0.7, 0.03))\n",
    "f.add_arm(Arm(0.8, 0.06))\n",
    "f.add_arm(Arm(0.6, 0.01))\n",
    "f.add_arm(Arm(0.5, 0.01))\n",
    "f.add_arm(Arm(0.9, 0.01))\n",
    "f.add_arm(Arm(0.7, 0.01))\n",
    "f.add_arm(Arm(0.91, 0.01))\n",
    "f.add_arm(Arm(0.6, 0.02))\n",
    "f.add_arm(Arm(0.5, 0.04))\n",
    "f.add_arm(Arm(0.7, 0.05))"
   ]
  },
  {
   "cell_type": "code",
   "execution_count": 5,
   "metadata": {},
   "outputs": [],
   "source": [
    "'''\n",
    "Epsilon Greedy Algorithm for reinforcement learning\n",
    "'''\n",
    "class Agent:\n",
    "    def __init__(self,fair : Fair):\n",
    "        self.reward_at_machine = [0 for i in range(fair.length)]\n",
    "        self.trial_times = [0 for i in range(fair.length)]\n",
    "        self.fair = fair\n",
    "        self.epsilon = 0.01\n",
    "        self.action_length = fair.length\n",
    "    def choose_action(self):\n",
    "        if random.random() < self.epsilon:\n",
    "            machine = random.randint(0,self.action_length-1)\n",
    "        else:\n",
    "            machine = self.reward_at_machine.index(max(self.reward_at_machine))\n",
    "        \n",
    "        self.trial_times[machine] += 1\n",
    "        reward = self.fair.pull_at_machine(machine)\n",
    "        self.reward_at_machine[machine] = (self.reward_at_machine[machine]*\n",
    "                                            (self.trial_times[machine]-1)+reward) /\\\n",
    "                                            (self.trial_times[machine])\n",
    "\n",
    "        return reward\n",
    "    def drive(self, num_episodes:int, num_timesteps_per_episode : int):\n",
    "        rewards = []\n",
    "        for episode in range(num_episodes):\n",
    "            reward = 0\n",
    "            for timestep in range(num_timesteps_per_episode):\n",
    "                reward += self.choose_action()\n",
    "            rewards.append(reward / num_timesteps_per_episode)\n",
    "        \n",
    "        return rewards"
   ]
  },
  {
   "cell_type": "code",
   "execution_count": 6,
   "metadata": {},
   "outputs": [
    {
     "data": {
      "text/plain": [
       "[0.900691784696403,\n",
       " 0.9075826986632534,\n",
       " 0.9068959390075035,\n",
       " 0.907493941051995,\n",
       " 0.9078743378475996,\n",
       " 0.9077173280987223,\n",
       " 0.9077032715178746,\n",
       " 0.9078410912474856,\n",
       " 0.9070818908031315,\n",
       " 0.9073584031710289]"
      ]
     },
     "execution_count": 6,
     "metadata": {},
     "output_type": "execute_result"
    }
   ],
   "source": [
    "c = Agent(f)\n",
    "c.drive(10,10000)"
   ]
  }
 ],
 "metadata": {
  "kernelspec": {
   "display_name": "Python 3.10.5 ('Python': venv)",
   "language": "python",
   "name": "python3"
  },
  "language_info": {
   "codemirror_mode": {
    "name": "ipython",
    "version": 3
   },
   "file_extension": ".py",
   "mimetype": "text/x-python",
   "name": "python",
   "nbconvert_exporter": "python",
   "pygments_lexer": "ipython3",
   "version": "3.10.5"
  },
  "orig_nbformat": 4,
  "vscode": {
   "interpreter": {
    "hash": "c5244888501267d2c69855474dad0b64313d75e3cf2a3742f062733341846266"
   }
  }
 },
 "nbformat": 4,
 "nbformat_minor": 2
}
