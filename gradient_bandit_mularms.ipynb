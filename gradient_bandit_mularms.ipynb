{
 "cells": [
  {
   "cell_type": "code",
   "execution_count": 40,
   "metadata": {},
   "outputs": [],
   "source": [
    "import random\n",
    "import numpy as np"
   ]
  },
  {
   "cell_type": "code",
   "execution_count": 41,
   "metadata": {},
   "outputs": [],
   "source": [
    "class Arm:\n",
    "    def __init__(self,probability: float, deviation: float):\n",
    "        self.probability = probability\n",
    "        self.deviation = deviation\n",
    "        self.positive_reward = 1\n",
    "        self.negative_reward = 0\n",
    "    def pull(self) -> int:\n",
    "        return self.positive_reward*np.random.normal(self.probability,self.deviation)"
   ]
  },
  {
   "cell_type": "code",
   "execution_count": 42,
   "metadata": {},
   "outputs": [],
   "source": [
    "class Fair:\n",
    "    def __init__(self):\n",
    "        self.arms = []\n",
    "        self.length = 0\n",
    "    def add_arm(self,arm : Arm):\n",
    "        self.arms.append(arm)\n",
    "        self.length += 1\n",
    "    def pull_at_machine(self,index : int) -> int:\n",
    "        try:\n",
    "            return self.arms[index].pull()\n",
    "        except:\n",
    "            print(\"Error at Fair.pull_at_machine\")\n",
    "            raise"
   ]
  },
  {
   "cell_type": "code",
   "execution_count": 43,
   "metadata": {},
   "outputs": [],
   "source": [
    "f = Fair()\n",
    "f.add_arm(Arm(0.7, 0.01))\n",
    "f.add_arm(Arm(0.8, 0.01))\n",
    "f.add_arm(Arm(0.6, 0.01))\n",
    "f.add_arm(Arm(0.5, 0.03))\n",
    "f.add_arm(Arm(0.7, 0.02))\n",
    "f.add_arm(Arm(0.7, 0.01))\n",
    "f.add_arm(Arm(0.8, 0.01))\n",
    "f.add_arm(Arm(0.6, 0.03))\n",
    "f.add_arm(Arm(0.5, 0.05))\n",
    "f.add_arm(Arm(0.7, 0.02))\n",
    "f.add_arm(Arm(0.7, 0.03))\n",
    "f.add_arm(Arm(0.8, 0.06))\n",
    "f.add_arm(Arm(0.6, 0.01))\n",
    "f.add_arm(Arm(0.5, 0.01))\n",
    "f.add_arm(Arm(0.9, 0.01))\n",
    "f.add_arm(Arm(0.7, 0.01))\n",
    "f.add_arm(Arm(0.91, 0.01))\n",
    "f.add_arm(Arm(0.6, 0.02))\n",
    "f.add_arm(Arm(0.5, 0.04))\n",
    "f.add_arm(Arm(0.7, 0.05))"
   ]
  },
  {
   "cell_type": "code",
   "execution_count": 44,
   "metadata": {},
   "outputs": [],
   "source": [
    "'''\n",
    "Gradient bandit Algorithm for reinforcement learning \n",
    "'''\n",
    "class Agent:\n",
    "    def __init__(self,fair : Fair):\n",
    "        self.H = np.ones(fair.length)\n",
    "        self.trial_times = 0\n",
    "        self.fair = fair\n",
    "        self.action_length = fair.length\n",
    "        self.total_reward = 0\n",
    "        self.lr = 0.01\n",
    "    def choose_action(self):\n",
    "        def soft_max(H):\n",
    "            h = H - np.max(H)\n",
    "            exp = np.exp(h)\n",
    "            return exp / np.sum(exp)\n",
    "        #choose action based on policy\n",
    "        policy = soft_max(self.H)\n",
    "        machine = np.random.choice(self.action_length, p =policy)\n",
    "        reward = self.fair.pull_at_machine(machine)\n",
    "\n",
    "        #update policy\n",
    "        self.total_reward += reward\n",
    "        self.trial_times += 1\n",
    "        avr_reward = self.total_reward / self.trial_times\n",
    "        upd = self.H[machine] + self.lr*(reward - avr_reward)*(1 - policy[machine])\n",
    "        self.H -= self.lr*(reward - avr_reward)*policy[machine]\n",
    "        self.H[machine] = upd\n",
    "        return reward\n",
    "    def drive(self,num_episodes : int,num_timesteps_per_eposode : int):\n",
    "        rewards = []\n",
    "        for episode in range(num_episodes):\n",
    "            reward = 0\n",
    "            for timestep in range(num_timesteps_per_eposode):\n",
    "                reward += self.choose_action()\n",
    "            rewards.append(reward / num_timesteps_per_eposode)\n",
    "        return rewards\n"
   ]
  },
  {
   "cell_type": "code",
   "execution_count": 46,
   "metadata": {},
   "outputs": [
    {
     "data": {
      "text/plain": [
       "[0.7288470085496952,\n",
       " 0.8976725953636907,\n",
       " 0.9100367763601426,\n",
       " 0.9099983118532134,\n",
       " 0.9101128804208963,\n",
       " 0.9099294524265764,\n",
       " 0.9101290074545877,\n",
       " 0.9101428213485291,\n",
       " 0.9101382601726149,\n",
       " 0.9100306754171573]"
      ]
     },
     "execution_count": 46,
     "metadata": {},
     "output_type": "execute_result"
    }
   ],
   "source": [
    "a = Agent(f)\n",
    "a.drive(10,10000)"
   ]
  }
 ],
 "metadata": {
  "kernelspec": {
   "display_name": "Python 3.10.5 64-bit",
   "language": "python",
   "name": "python3"
  },
  "language_info": {
   "codemirror_mode": {
    "name": "ipython",
    "version": 3
   },
   "file_extension": ".py",
   "mimetype": "text/x-python",
   "name": "python",
   "nbconvert_exporter": "python",
   "pygments_lexer": "ipython3",
   "version": "3.10.5"
  },
  "orig_nbformat": 4,
  "vscode": {
   "interpreter": {
    "hash": "682500ecd35da165753406cb9a5b7a11d766438723cad81a60a58ef1c8c50a88"
   }
  }
 },
 "nbformat": 4,
 "nbformat_minor": 2
}
